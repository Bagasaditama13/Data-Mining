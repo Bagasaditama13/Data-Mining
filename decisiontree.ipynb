{
  "nbformat": 4,
  "nbformat_minor": 0,
  "metadata": {
    "colab": {
      "provenance": []
    },
    "kernelspec": {
      "name": "python3",
      "display_name": "Python 3"
    },
    "language_info": {
      "name": "python"
    }
  },
  "cells": [
    {
      "cell_type": "code",
      "execution_count": 1,
      "metadata": {
        "id": "2BxRnA9ozmFQ"
      },
      "outputs": [],
      "source": [
        "import numpy as np\n",
        "import pandas as pd\n",
        "from sklearn import tree"
      ]
    },
    {
      "cell_type": "code",
      "source": [
        "irisDataset = pd.read_csv('Dataset Iris.csv')"
      ],
      "metadata": {
        "id": "U9ydzfkT0Pdk"
      },
      "execution_count": 2,
      "outputs": []
    },
    {
      "cell_type": "code",
      "source": [
        "irisDataset[\"Species\"] = pd.factorize(irisDataset.Species)[0]\n",
        "irisDataset = irisDataset.drop(labels=\"Id\", axis=1)\n",
        "irisDataset = irisDataset.to_numpy()"
      ],
      "metadata": {
        "id": "21X43i5p0YXf"
      },
      "execution_count": null,
      "outputs": []
    },
    {
      "cell_type": "code",
      "source": [
        "dataTraining = np.concatenate((irisDataset[0:40,:],\n",
        "                               irisDataset[50:90,:]), axis = 0)\n",
        "dataTesting = np.concatenate((irisDataset[40:50,:],\n",
        "                               irisDataset[90:100,:]), axis = 0)"
      ],
      "metadata": {
        "id": "i2xawitl1Idc"
      },
      "execution_count": null,
      "outputs": []
    },
    {
      "cell_type": "code",
      "source": [
        "inputTraining = dataTraining[:,0:4]\n",
        "inputTesting = dataTesting[:,0:4]\n",
        "labelTraining = dataTraining[:, 4]\n",
        "labelTesting = dataTesting[:, 4]"
      ],
      "metadata": {
        "id": "pbxScTTs1tfV"
      },
      "execution_count": null,
      "outputs": []
    },
    {
      "cell_type": "code",
      "source": [
        "model = tree.DecisionTreeClassifier()\n",
        "model = model.fit(inputTraining, labelTraining)"
      ],
      "metadata": {
        "id": "Ta-KXKk72EK9"
      },
      "execution_count": null,
      "outputs": []
    },
    {
      "cell_type": "code",
      "source": [
        "hasilPredksi = model.predict(inputTesting)\n",
        "print(\"Label Sebenarnya : \", labelTesting)\n",
        "print(\"Hasil Prediksi : \", hasilPrediksi)"
      ],
      "metadata": {
        "id": "dE-ArfXD2GeZ"
      },
      "execution_count": null,
      "outputs": []
    },
    {
      "cell_type": "code",
      "source": [
        "prediksiBenar = (hasilPredksi == labelTesting).sum()\n",
        "prediksiSalah = (hasilPredksi != labelTesting).sum()\n",
        "print(\"Prediksi Benar :\", prediksiBenar, \"data\")\n",
        "print(\"Prediksi Salah :\", prediksiSalah, \"data\")\n",
        "print(\"akurasi: \", prediksiBenar/(prediksiBenar+prediksiSalah)*100, \"%\")"
      ],
      "metadata": {
        "id": "lQnhVaFn2VHK"
      },
      "execution_count": null,
      "outputs": []
    }
  ]
}