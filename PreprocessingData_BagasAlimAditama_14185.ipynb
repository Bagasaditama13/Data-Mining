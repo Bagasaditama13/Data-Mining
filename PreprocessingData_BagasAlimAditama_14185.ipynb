{
  "nbformat": 4,
  "nbformat_minor": 0,
  "metadata": {
    "colab": {
      "provenance": []
    },
    "kernelspec": {
      "name": "python3",
      "display_name": "Python 3"
    },
    "language_info": {
      "name": "python"
    }
  },
  "cells": [
    {
      "cell_type": "code",
      "execution_count": 80,
      "metadata": {
        "id": "O7dJCpHpVLHd"
      },
      "outputs": [],
      "source": [
        "import numpy as np\n",
        "import matplotlib.pyplot as plt\n",
        "import pandas as pd"
      ]
    },
    {
      "cell_type": "code",
      "source": [
        "dataset = pd.read_csv('Dataset.csv')\n",
        "X = dataset.iloc[:, :-1].values\n",
        "Y = dataset.iloc[:, -1].values"
      ],
      "metadata": {
        "id": "U_w7t6MhVSvB"
      },
      "execution_count": 81,
      "outputs": []
    },
    {
      "cell_type": "code",
      "source": [
        "print(X)"
      ],
      "metadata": {
        "colab": {
          "base_uri": "https://localhost:8080/"
        },
        "id": "Nighlsq1VY4x",
        "outputId": "cb2fb661-feef-427b-d872-c0b6c63465f6"
      },
      "execution_count": 82,
      "outputs": [
        {
          "output_type": "stream",
          "name": "stdout",
          "text": [
            "[[1 'Pati' 24.0 3000000.0]\n",
            " [2 'Semarang' 25.0 4000000.0]\n",
            " [3 'Kudus' 26.0 3500000.0]\n",
            " [4 'Pati' 28.0 4500000.0]\n",
            " [5 'Semarang' 29.0 3500000.0]\n",
            " [6 'Kudus' 24.0 3400000.0]\n",
            " [7 'Pati' nan 4500000.0]\n",
            " [8 'Semarang' 31.0 4000000.0]\n",
            " [9 'Kudus' 26.0 nan]\n",
            " [10 'Pati' 29.0 3000000.0]]\n"
          ]
        }
      ]
    },
    {
      "cell_type": "code",
      "source": [
        "print(y)"
      ],
      "metadata": {
        "colab": {
          "base_uri": "https://localhost:8080/"
        },
        "id": "WZ6D1NnZVbHb",
        "outputId": "d92f9506-1e89-4e21-926a-e14e2f0d00db"
      },
      "execution_count": 83,
      "outputs": [
        {
          "output_type": "stream",
          "name": "stdout",
          "text": [
            "[1 0 0 1 0 1 1 0 1 0]\n"
          ]
        }
      ]
    },
    {
      "cell_type": "code",
      "source": [
        "from sklearn.impute import SimpleImputer\n",
        "imputer = SimpleImputer(missing_values=np.nan, strategy='most_frequent')\n",
        "imputer.fit(X[:, 1:3])\n",
        "X[:, 1:3] = imputer.transform(X[:, 1:3])"
      ],
      "metadata": {
        "id": "fGPCTm3MVdec"
      },
      "execution_count": 84,
      "outputs": []
    },
    {
      "cell_type": "code",
      "source": [
        "print(X)"
      ],
      "metadata": {
        "colab": {
          "base_uri": "https://localhost:8080/"
        },
        "id": "CQE4m68_VkA6",
        "outputId": "48101346-37e9-4f76-c352-7707359a189c"
      },
      "execution_count": 62,
      "outputs": [
        {
          "output_type": "stream",
          "name": "stdout",
          "text": [
            "[[1 'Pati' 24.0 3000000.0]\n",
            " [2 'Semarang' 25.0 4000000.0]\n",
            " [3 'Kudus' 26.0 3500000.0]\n",
            " [4 'Pati' 28.0 4500000.0]\n",
            " [5 'Semarang' 29.0 3500000.0]\n",
            " [6 'Kudus' 24.0 3400000.0]\n",
            " [7 'Pati' 24.0 4500000.0]\n",
            " [8 'Semarang' 31.0 4000000.0]\n",
            " [9 'Kudus' 26.0 nan]\n",
            " [10 'Pati' 29.0 3000000.0]]\n"
          ]
        }
      ]
    },
    {
      "cell_type": "code",
      "source": [
        "from sklearn.compose import ColumnTransformer\n",
        "from sklearn.preprocessing import OneHotEncoder\n",
        "ct = ColumnTransformer(transformers=[('encoder', OneHotEncoder(), [0])], remainder='passthrough')\n",
        "X = np.array(ct.fit_transform(X))"
      ],
      "metadata": {
        "id": "ptiIDmdfVnpK"
      },
      "execution_count": 63,
      "outputs": []
    },
    {
      "cell_type": "code",
      "source": [
        "print(X)"
      ],
      "metadata": {
        "colab": {
          "base_uri": "https://localhost:8080/"
        },
        "id": "YqZFTA7AVqCk",
        "outputId": "2b8ad295-dfad-4f7c-e5c0-5ddbf7bbf241"
      },
      "execution_count": 64,
      "outputs": [
        {
          "output_type": "stream",
          "name": "stdout",
          "text": [
            "[[1.0 0.0 0.0 0.0 0.0 0.0 0.0 0.0 0.0 0.0 'Pati' 24.0 3000000.0]\n",
            " [0.0 1.0 0.0 0.0 0.0 0.0 0.0 0.0 0.0 0.0 'Semarang' 25.0 4000000.0]\n",
            " [0.0 0.0 1.0 0.0 0.0 0.0 0.0 0.0 0.0 0.0 'Kudus' 26.0 3500000.0]\n",
            " [0.0 0.0 0.0 1.0 0.0 0.0 0.0 0.0 0.0 0.0 'Pati' 28.0 4500000.0]\n",
            " [0.0 0.0 0.0 0.0 1.0 0.0 0.0 0.0 0.0 0.0 'Semarang' 29.0 3500000.0]\n",
            " [0.0 0.0 0.0 0.0 0.0 1.0 0.0 0.0 0.0 0.0 'Kudus' 24.0 3400000.0]\n",
            " [0.0 0.0 0.0 0.0 0.0 0.0 1.0 0.0 0.0 0.0 'Pati' 24.0 4500000.0]\n",
            " [0.0 0.0 0.0 0.0 0.0 0.0 0.0 1.0 0.0 0.0 'Semarang' 31.0 4000000.0]\n",
            " [0.0 0.0 0.0 0.0 0.0 0.0 0.0 0.0 1.0 0.0 'Kudus' 26.0 nan]\n",
            " [0.0 0.0 0.0 0.0 0.0 0.0 0.0 0.0 0.0 1.0 'Pati' 29.0 3000000.0]]\n"
          ]
        }
      ]
    },
    {
      "cell_type": "code",
      "source": [
        "from sklearn.preprocessing import LabelEncoder\n",
        "le = LabelEncoder()\n",
        "y = le.fit_transform(y)"
      ],
      "metadata": {
        "id": "HEOPupclVsd1"
      },
      "execution_count": 65,
      "outputs": []
    },
    {
      "cell_type": "code",
      "source": [
        "print(Y)"
      ],
      "metadata": {
        "colab": {
          "base_uri": "https://localhost:8080/"
        },
        "id": "UPVIhQLQV2wu",
        "outputId": "6df7d2c9-d52b-49bc-d2cf-108fd3f16e82"
      },
      "execution_count": 66,
      "outputs": [
        {
          "output_type": "stream",
          "name": "stdout",
          "text": [
            "['Yes' 'No' 'No' 'Yes' 'No' 'Yes' 'Yes' 'No' 'Yes' 'No']\n"
          ]
        }
      ]
    },
    {
      "cell_type": "code",
      "source": [
        "from sklearn.model_selection import train_test_split\n",
        "X_train, X_test, Y_train, Y_test = train_test_split(X, Y, test_size=0.2, random_state =1)"
      ],
      "metadata": {
        "id": "j-RH1w7fV5Pa"
      },
      "execution_count": 67,
      "outputs": []
    },
    {
      "cell_type": "code",
      "source": [
        "print(X_train)"
      ],
      "metadata": {
        "colab": {
          "base_uri": "https://localhost:8080/"
        },
        "id": "S4RxdpIaV7kx",
        "outputId": "ac71350f-8efd-47cf-b9b9-b07d9309d74a"
      },
      "execution_count": 68,
      "outputs": [
        {
          "output_type": "stream",
          "name": "stdout",
          "text": [
            "[[0.0 0.0 0.0 0.0 0.0 0.0 1.0 0.0 0.0 0.0 'Pati' 24.0 4500000.0]\n",
            " [0.0 0.0 0.0 0.0 1.0 0.0 0.0 0.0 0.0 0.0 'Semarang' 29.0 3500000.0]\n",
            " [1.0 0.0 0.0 0.0 0.0 0.0 0.0 0.0 0.0 0.0 'Pati' 24.0 3000000.0]\n",
            " [0.0 0.0 0.0 1.0 0.0 0.0 0.0 0.0 0.0 0.0 'Pati' 28.0 4500000.0]\n",
            " [0.0 1.0 0.0 0.0 0.0 0.0 0.0 0.0 0.0 0.0 'Semarang' 25.0 4000000.0]\n",
            " [0.0 0.0 0.0 0.0 0.0 0.0 0.0 1.0 0.0 0.0 'Semarang' 31.0 4000000.0]\n",
            " [0.0 0.0 0.0 0.0 0.0 0.0 0.0 0.0 1.0 0.0 'Kudus' 26.0 nan]\n",
            " [0.0 0.0 0.0 0.0 0.0 1.0 0.0 0.0 0.0 0.0 'Kudus' 24.0 3400000.0]]\n"
          ]
        }
      ]
    },
    {
      "cell_type": "code",
      "source": [
        "print(X_test)"
      ],
      "metadata": {
        "colab": {
          "base_uri": "https://localhost:8080/"
        },
        "id": "AI1DRvz9V_ES",
        "outputId": "f49ba17e-6da0-4b32-aba2-9a5ffb06a40e"
      },
      "execution_count": 70,
      "outputs": [
        {
          "output_type": "stream",
          "name": "stdout",
          "text": [
            "[[0.0 0.0 1.0 0.0 0.0 0.0 0.0 0.0 0.0 0.0 'Kudus' 26.0 3500000.0]\n",
            " [0.0 0.0 0.0 0.0 0.0 0.0 0.0 0.0 0.0 1.0 'Pati' 29.0 3000000.0]]\n"
          ]
        }
      ]
    },
    {
      "cell_type": "code",
      "source": [
        "print(Y_train)"
      ],
      "metadata": {
        "colab": {
          "base_uri": "https://localhost:8080/"
        },
        "id": "AOkN7uWGWCgj",
        "outputId": "aab733dd-7a30-40dd-ce9c-1e5971217bf7"
      },
      "execution_count": 71,
      "outputs": [
        {
          "output_type": "stream",
          "name": "stdout",
          "text": [
            "['Yes' 'No' 'Yes' 'Yes' 'No' 'No' 'Yes' 'Yes']\n"
          ]
        }
      ]
    },
    {
      "cell_type": "code",
      "source": [
        "print(Y_test)"
      ],
      "metadata": {
        "colab": {
          "base_uri": "https://localhost:8080/"
        },
        "id": "yP15bTxyWEjJ",
        "outputId": "2a67453b-8d69-4128-d7d4-00ce1ec300a0"
      },
      "execution_count": 79,
      "outputs": [
        {
          "output_type": "stream",
          "name": "stdout",
          "text": [
            "['No' 'No']\n"
          ]
        }
      ]
    },
    {
      "cell_type": "code",
      "source": [
        "from sklearn.preprocessing import StandardScaler\n",
        "sc = StandardScaler()\n",
        "X_train[:, 1:3] = sc.fit_transform(X_train[:, 1:3])\n",
        "X_test[:, 1:3] = sc.transform(X_test[:, 1:3])"
      ],
      "metadata": {
        "id": "X6zMGbpaWGU7"
      },
      "execution_count": 77,
      "outputs": []
    },
    {
      "cell_type": "code",
      "source": [
        "print(X_train)"
      ],
      "metadata": {
        "colab": {
          "base_uri": "https://localhost:8080/"
        },
        "id": "itwG4aUpWIpv",
        "outputId": "86a442f6-b61d-4182-8e8d-691756467933"
      },
      "execution_count": 78,
      "outputs": [
        {
          "output_type": "stream",
          "name": "stdout",
          "text": [
            "[[0.0 -0.37796447300922725 0.0 0.0 0.0 0.0 1.0 0.0 0.0 0.0 'Pati' 24.0\n",
            "  4500000.0]\n",
            " [0.0 -0.37796447300922725 0.0 0.0 1.0 0.0 0.0 0.0 0.0 0.0 'Semarang'\n",
            "  29.0 3500000.0]\n",
            " [1.0 -0.37796447300922725 0.0 0.0 0.0 0.0 0.0 0.0 0.0 0.0 'Pati' 24.0\n",
            "  3000000.0]\n",
            " [0.0 -0.37796447300922725 0.0 1.0 0.0 0.0 0.0 0.0 0.0 0.0 'Pati' 28.0\n",
            "  4500000.0]\n",
            " [0.0 2.6457513110645907 0.0 0.0 0.0 0.0 0.0 0.0 0.0 0.0 'Semarang' 25.0\n",
            "  4000000.0]\n",
            " [0.0 -0.37796447300922725 0.0 0.0 0.0 0.0 0.0 1.0 0.0 0.0 'Semarang'\n",
            "  31.0 4000000.0]\n",
            " [0.0 -0.37796447300922725 0.0 0.0 0.0 0.0 0.0 0.0 1.0 0.0 'Kudus' 26.0\n",
            "  nan]\n",
            " [0.0 -0.37796447300922725 0.0 0.0 0.0 1.0 0.0 0.0 0.0 0.0 'Kudus' 24.0\n",
            "  3400000.0]]\n"
          ]
        }
      ]
    },
    {
      "cell_type": "code",
      "source": [
        "print(X_test)"
      ],
      "metadata": {
        "colab": {
          "base_uri": "https://localhost:8080/"
        },
        "id": "_z0fXmqCWLEr",
        "outputId": "572ae6f7-5490-40d2-df24-08198fc2ed65"
      },
      "execution_count": 76,
      "outputs": [
        {
          "output_type": "stream",
          "name": "stdout",
          "text": [
            "[[0.0 -0.3779644730092272 1.0 0.0 0.0 0.0 0.0 0.0 0.0 0.0 'Kudus' 26.0\n",
            "  3500000.0]\n",
            " [0.0 -0.3779644730092272 0.0 0.0 0.0 0.0 0.0 0.0 0.0 1.0 'Pati' 29.0\n",
            "  3000000.0]]\n"
          ]
        }
      ]
    }
  ]
}